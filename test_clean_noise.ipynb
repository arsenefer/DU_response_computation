{
 "cells": [
  {
   "cell_type": "code",
   "execution_count": 1,
   "metadata": {},
   "outputs": [],
   "source": [
    "import numpy as np\n",
    "import matplotlib.pyplot as plt\n",
    "import scipy.interpolate as interp\n",
    "import h5py\n",
    "import glob\n",
    "from apply_rfchain import open_gp300, open_horizon, smap_2_tf, noise_sample, compute_noise\n",
    "\n",
    "SMALL_SIZE = 10\n",
    "MEDIUM_SIZE = 12\n",
    "BIGGER_SIZE = 14\n",
    "\n",
    "plt.rc('font', size=BIGGER_SIZE)          # controls default text sizes\n",
    "plt.rc('axes', titlesize=BIGGER_SIZE)     # fontsize of the axes title\n",
    "plt.rc('axes', labelsize=BIGGER_SIZE)    # fontsize of the x and y labels\n",
    "plt.rc('xtick', labelsize=MEDIUM_SIZE)    # fontsize of the tick labels\n",
    "plt.rc('ytick', labelsize=MEDIUM_SIZE)    # fontsize of the tick labels\n",
    "plt.rc('legend', fontsize=BIGGER_SIZE)    # legend fontsize\n",
    "plt.rc('figure', titlesize=BIGGER_SIZE)"
   ]
  },
  {
   "cell_type": "code",
   "execution_count": 2,
   "metadata": {},
   "outputs": [],
   "source": [
    "latitude = (90-(-35.206667)) * np.pi / 180\n",
    "latitude = (90-(50)) * np.pi / 180\n",
    "latitude = (90-(42.2281)) * np.pi / 180\n",
    "\n",
    "LST_hours = np.arange(1,24,0.5)\n",
    "LST_radians = LST_hours * 15 * np.pi / 180\n",
    "target_freqs = np.fft.rfftfreq(8192, 1/2e9)\n"
   ]
  },
  {
   "cell_type": "code",
   "execution_count": 3,
   "metadata": {},
   "outputs": [],
   "source": [
    "path_to_GP300_EW = \"/volatile/home/af274537/Documents/WorkingDir/grand/data/detector/Light_GP300Antenna_EWarm_leff.npz\"\n",
    "path_to_GP300_SN = \"/volatile/home/af274537/Documents/WorkingDir/grand/data/detector/Light_GP300Antenna_SNarm_leff.npz\"\n",
    "path_to_GP300_Z = \"/volatile/home/af274537/Documents/WorkingDir/grand/data/detector/Light_GP300Antenna_Zarm_leff.npz\"\n",
    "t_EW = open_gp300(path_to_GP300_EW)\n",
    "t_SN = open_gp300(path_to_GP300_SN)\n",
    "t_Z = open_gp300(path_to_GP300_Z)"
   ]
  },
  {
   "cell_type": "code",
   "execution_count": 4,
   "metadata": {},
   "outputs": [],
   "source": [
    "balun1      = np.loadtxt(\"./electronics/balun_in_nut.s2p\", comments=['#', '!']).astype(np.float64)\n",
    "matchnet_sn = np.loadtxt(\"./electronics/MatchingNetworkX.s2p\", comments=['#', '!']).astype(np.float64)\n",
    "matchnet_ew = np.loadtxt(\"./electronics/MatchingNetworkY.s2p\", comments=['#', '!']).astype(np.float64)\n",
    "matchnet_z  = np.loadtxt(\"./electronics/MatchingNetworkZ.s2p\", comments=['#', '!']).astype(np.float64)\n",
    "LNA_sn      = np.loadtxt(\"./electronics/LNA-X.s2p\", comments=['#', '!']).astype(np.float64)\n",
    "LNA_ew      = np.loadtxt(\"./electronics/LNA-Y.s2p\", comments=['#', '!']).astype(np.float64)\n",
    "LNA_z       = np.loadtxt(\"./electronics/LNA-Z.s2p\", comments=['#', '!']).astype(np.float64)\n",
    "cable       = np.loadtxt(\"./electronics/cable+Connector.s2p\", comments=['#', '!']).astype(np.float64)\n",
    "vga         = np.loadtxt(\"./electronics/feb+amfitler+biast.s2p\", comments=['#', '!']).astype(np.float64)\n",
    "balun2      = np.loadtxt(\"./electronics/balun_before_ad.s2p\", comments=['#', '!']).astype(np.float64)\n",
    "zload_map   = np.loadtxt(\"./electronics/S_balun_AD.s1p\", comments=['#', '!']).astype(np.float64)\n",
    "zant_map    = np.loadtxt(\"./electronics/Z_ant_3.2m.csv\", delimiter=\",\", comments=['#', '!'], skiprows=1).astype(np.float64)\n",
    "\n",
    "list_s_maps_sn = [balun1, matchnet_sn, LNA_sn, cable, vga]\n",
    "list_s_maps_ew = [balun1, matchnet_ew, LNA_ew, cable, vga]\n",
    "list_s_maps_z = [balun1, matchnet_z, LNA_z, cable, vga]\n",
    "is_db = [False, False, True, True, True]\n",
    "\n",
    "tf_sn = smap_2_tf(list_s_maps_sn, zload_map, zant_map, target_freqs, is_db=is_db, balun_2_map=balun2, axis=0)\n",
    "tf_ew = smap_2_tf(list_s_maps_ew, zload_map, zant_map, target_freqs, is_db=is_db, balun_2_map=balun2, axis=1)\n",
    "tf_z = smap_2_tf(list_s_maps_z, zload_map, zant_map, target_freqs, is_db=is_db, balun_2_map=balun2, axis=2)\n",
    "tf = np.stack([tf_sn, tf_ew, tf_z])"
   ]
  },
  {
   "cell_type": "code",
   "execution_count": 5,
   "metadata": {},
   "outputs": [
    {
     "name": "stdout",
     "output_type": "stream",
     "text": [
      "250000000.0 250000000.0\n",
      "3.488620044104216\n",
      "3.3754791163762943\n",
      "4.807996405910927\n"
     ]
    }
   ],
   "source": [
    "noise_computer = compute_noise(LST_radians, latitude, \n",
    "                              [f\"EXPLORATION/LFmap/LFmapshort{i}.npy\" for i in range(20, 251)], np.arange(20,251)*1e6,\n",
    "                              leff_x=t_SN, leff_y=t_EW, leff_z=t_Z)"
   ]
  },
  {
   "cell_type": "code",
   "execution_count": 6,
   "metadata": {},
   "outputs": [
    {
     "name": "stdout",
     "output_type": "stream",
     "text": [
      "Calculating noise power for LST 1.00 hours\n",
      "Calculating noise power for LST 1.50 hours\n",
      "Calculating noise power for LST 2.00 hours\n",
      "Calculating noise power for LST 2.50 hours\n",
      "Calculating noise power for LST 3.00 hours\n",
      "Calculating noise power for LST 3.50 hours\n",
      "Calculating noise power for LST 4.00 hours\n",
      "Calculating noise power for LST 4.50 hours\n",
      "Calculating noise power for LST 5.00 hours\n",
      "Calculating noise power for LST 5.50 hours\n",
      "Calculating noise power for LST 6.00 hours\n",
      "Calculating noise power for LST 6.50 hours\n",
      "Calculating noise power for LST 7.00 hours\n",
      "Calculating noise power for LST 7.50 hours\n",
      "Calculating noise power for LST 8.00 hours\n",
      "Calculating noise power for LST 8.50 hours\n",
      "Calculating noise power for LST 9.00 hours\n",
      "Calculating noise power for LST 9.50 hours\n",
      "Calculating noise power for LST 10.00 hours\n",
      "Calculating noise power for LST 10.50 hours\n",
      "Calculating noise power for LST 11.00 hours\n",
      "Calculating noise power for LST 11.50 hours\n",
      "Calculating noise power for LST 12.00 hours\n",
      "Calculating noise power for LST 12.50 hours\n",
      "Calculating noise power for LST 13.00 hours\n",
      "Calculating noise power for LST 13.50 hours\n",
      "Calculating noise power for LST 14.00 hours\n",
      "Calculating noise power for LST 14.50 hours\n",
      "Calculating noise power for LST 15.00 hours\n",
      "Calculating noise power for LST 15.50 hours\n",
      "Calculating noise power for LST 16.00 hours\n",
      "Calculating noise power for LST 16.50 hours\n",
      "Calculating noise power for LST 17.00 hours\n",
      "Calculating noise power for LST 17.50 hours\n",
      "Calculating noise power for LST 18.00 hours\n",
      "Calculating noise power for LST 18.50 hours\n",
      "Calculating noise power for LST 19.00 hours\n",
      "Calculating noise power for LST 19.50 hours\n",
      "Calculating noise power for LST 20.00 hours\n",
      "Calculating noise power for LST 20.50 hours\n",
      "Calculating noise power for LST 21.00 hours\n",
      "Calculating noise power for LST 21.50 hours\n",
      "Calculating noise power for LST 22.00 hours\n",
      "Calculating noise power for LST 22.50 hours\n",
      "Calculating noise power for LST 23.00 hours\n",
      "Calculating noise power for LST 23.50 hours\n"
     ]
    },
    {
     "data": {
      "text/plain": [
       "1.87745083117156e-21"
      ]
     },
     "execution_count": 6,
     "metadata": {},
     "output_type": "execute_result"
    }
   ],
   "source": [
    "noise_computer.noise_power()"
   ]
  },
  {
   "cell_type": "code",
   "execution_count": 7,
   "metadata": {},
   "outputs": [
    {
     "data": {
      "text/plain": [
       "1.7552183328671548e-19"
      ]
     },
     "execution_count": 7,
     "metadata": {},
     "output_type": "execute_result"
    }
   ],
   "source": [
    "noise_computer.P_nu.max()"
   ]
  },
  {
   "cell_type": "code",
   "execution_count": 16,
   "metadata": {},
   "outputs": [
    {
     "data": {
      "text/plain": [
       "<matplotlib.collections.PathCollection at 0x741a7b3ed7d0>"
      ]
     },
     "execution_count": 16,
     "metadata": {},
     "output_type": "execute_result"
    },
    {
     "data": {
      "image/png": "[encoded data removed]",
      "text/plain": [
       "<Figure size 640x480 with 1 Axes>"
      ]
     },
     "metadata": {},
     "output_type": "display_data"
    }
   ],
   "source": [
    "plt.scatter((noise_computer.lst_rads*180/np.pi/15+12)%24, np.sum(noise_computer.P_nu, axis=-1)[:,0], label=\"Total noise\")\n",
    "plt.scatter((noise_computer.lst_rads*180/np.pi/15+12)%24, np.sum(noise_computer.P_nu, axis=-1)[:,1], label=\"Total noise\")\n",
    "plt.scatter((noise_computer.lst_rads*180/np.pi/15+12)%24, np.sum(noise_computer.P_nu, axis=-1)[:,2], label=\"Total noise\")"
   ]
  }
 ],
 "metadata": {
  "kernelspec": {
   "display_name": ".ENV",
   "language": "python",
   "name": "python3"
  },
  "language_info": {
   "codemirror_mode": {
    "name": "ipython",
    "version": 3
   },
   "file_extension": ".py",
   "mimetype": "text/x-python",
   "name": "python",
   "nbconvert_exporter": "python",
   "pygments_lexer": "ipython3",
   "version": "3.11.5"
  }
 },
 "nbformat": 4,
 "nbformat_minor": 2
}
